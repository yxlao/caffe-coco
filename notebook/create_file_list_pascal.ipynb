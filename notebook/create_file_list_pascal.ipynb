{
 "cells": [
  {
   "cell_type": "code",
   "execution_count": 15,
   "metadata": {
    "collapsed": true
   },
   "outputs": [],
   "source": [
    "from __future__ import print_function\n",
    "import os, sys"
   ]
  },
  {
   "cell_type": "code",
   "execution_count": 16,
   "metadata": {
    "collapsed": true
   },
   "outputs": [],
   "source": [
    "# dirs\n",
    "base_dir = '/home/x6huang/data/pascal/preprocessed/'\n",
    "datasets = ['train', 'val']"
   ]
  },
  {
   "cell_type": "code",
   "execution_count": 17,
   "metadata": {
    "collapsed": false
   },
   "outputs": [],
   "source": [
    "for dataset in datasets:\n",
    "    image_dir = base_dir + 'images-resized/' + dataset + '/'\n",
    "    label_dir = base_dir + 'labels-resized/' + dataset +'/'\n",
    "    output_path = base_dir + '/' + dataset + '_list.txt'\n",
    "    image_names = [f for f in os.listdir(image_dir) if os.path.isfile(os.path.join(image_dir,f))]\n",
    "\n",
    "    f = open(output_path,'w')\n",
    "    for image_name in image_names:\n",
    "        image_path = image_dir + image_name\n",
    "        label_path = label_dir + image_name\n",
    "        assert os.path.isfile(image_path)\n",
    "        assert os.path.isfile(label_path)\n",
    "        print (image_path, label_path, file=f)\n",
    "        print (image_path, label_path, file=f)\n",
    "    f.close()"
   ]
  },
  {
   "cell_type": "code",
   "execution_count": null,
   "metadata": {
    "collapsed": true
   },
   "outputs": [],
   "source": []
  },
  {
   "cell_type": "code",
   "execution_count": null,
   "metadata": {
    "collapsed": true
   },
   "outputs": [],
   "source": []
  },
  {
   "cell_type": "code",
   "execution_count": null,
   "metadata": {
    "collapsed": true
   },
   "outputs": [],
   "source": []
  },
  {
   "cell_type": "code",
   "execution_count": null,
   "metadata": {
    "collapsed": true
   },
   "outputs": [],
   "source": []
  }
 ],
 "metadata": {
  "kernelspec": {
   "display_name": "Python 2",
   "language": "python",
   "name": "python2"
  },
  "language_info": {
   "codemirror_mode": {
    "name": "ipython",
    "version": 2
   },
   "file_extension": ".py",
   "mimetype": "text/x-python",
   "name": "python",
   "nbconvert_exporter": "python",
   "pygments_lexer": "ipython2",
   "version": "2.7.6"
  }
 },
 "nbformat": 4,
 "nbformat_minor": 0
}
