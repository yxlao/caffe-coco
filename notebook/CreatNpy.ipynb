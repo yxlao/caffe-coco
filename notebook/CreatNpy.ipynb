{
 "cells": [
  {
   "cell_type": "code",
   "execution_count": 1,
   "metadata": {
    "collapsed": true
   },
   "outputs": [],
   "source": [
    "import numpy as np\n",
    "import lmdb\n",
    "import sys\n",
    "sys.path.insert(0,'../python')\n",
    "import caffe\n",
    "import os\n",
    "import cv2\n",
    "from scipy import misc\n",
    "from os.path import expanduser\n",
    "home_dir = expanduser(\"~\")\n",
    "coco_root = home_dir+'/data/coco'\n",
    "from pycocotools.coco import COCO\n",
    "from pycocotools.mask import *\n",
    "import matplotlib.pyplot as plt\n",
    "%matplotlib inline"
   ]
  },
  {
   "cell_type": "code",
   "execution_count": 2,
   "metadata": {
    "collapsed": false
   },
   "outputs": [
    {
     "name": "stdout",
     "output_type": "stream",
     "text": [
      "loading annotations into memory...\n",
      "Done (t=10.19s)\n",
      "creating index...\n",
      "index created!\n"
     ]
    }
   ],
   "source": [
    "annType = 'segm'\n",
    "dataType='val2014'\n",
    "annFile = '%s/annotations/instances_%s.json'%(coco_root,dataType)\n",
    "cocoGt=COCO(annFile)"
   ]
  },
  {
   "cell_type": "code",
   "execution_count": 3,
   "metadata": {
    "collapsed": true
   },
   "outputs": [],
   "source": [
    "cats = cocoGt.getCatIds()\n",
    "k=1\n",
    "catdict={}\n",
    "segm_dir = coco_root + '/preprocessed' + '/segmentation-gt'\n",
    "\n",
    "if not os.path.exists(segm_dir):\n",
    "    os.makedirs(segm_dir)\n",
    "    \n",
    "for catid in cats:\n",
    "    catdict[catid] = k\n",
    "    k = k+1\n",
    "    \n",
    "imgIds = cocoGt.getImgIds()\n",
    "for imgId in imgIds:\n",
    "    img = cocoGt.loadImgs(imgId)[0]\n",
    "    Cmap = np.zeros((81,512,512))\n",
    "    annIds = cocoGt.getAnnIds(imgIds=imgId)\n",
    "    anns = cocoGt.loadAnns(annIds)\n",
    "    for ann in anns:\n",
    "        segm = ann['segmentation']\n",
    "        if type(segm) == dict:\n",
    "            temp = [segm]\n",
    "            segm = temp\n",
    "        Rs = frPyObjects( segm, img['height'], img['width'] )\n",
    "        masks = decode(Rs)\n",
    "        masks = masks.max(axis=2)\n",
    "        catid = ann['category_id']\n",
    "        Cmap[catdict[catid]] = np.round(cv2.resize(np.squeeze(masks),(512,512)))\n",
    "    BGmap = np.ones((512,512)) - Cmap.max(axis=0)\n",
    "    Cmap[0] = BGmap\n",
    "    if not np.any(np.bitwise_or(Cmap==0,Cmap==1)):\n",
    "        raise('Class map should be binary')\n",
    "    outfile = segm_dir + '/' + str(imgId) \n",
    "    np.save(outfile, np.round(Cmap))\n",
    "    "
   ]
  },
  {
   "cell_type": "code",
   "execution_count": null,
   "metadata": {
    "collapsed": true
   },
   "outputs": [],
   "source": []
  }
 ],
 "metadata": {
  "kernelspec": {
   "display_name": "Python 2",
   "language": "python",
   "name": "python2"
  },
  "language_info": {
   "codemirror_mode": {
    "name": "ipython",
    "version": 2
   },
   "file_extension": ".py",
   "mimetype": "text/x-python",
   "name": "python",
   "nbconvert_exporter": "python",
   "pygments_lexer": "ipython2",
   "version": "2.7.6"
  }
 },
 "nbformat": 4,
 "nbformat_minor": 0
}
