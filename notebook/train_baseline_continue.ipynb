{
 "cells": [
  {
   "cell_type": "code",
   "execution_count": 1,
   "metadata": {
    "collapsed": true
   },
   "outputs": [],
   "source": [
    "import numpy as np\n",
    "import lmdb\n",
    "import sys\n",
    "caffe_root = '..'\n",
    "sys.path.insert(0,caffe_root+'/python')\n",
    "import caffe\n",
    "import os\n",
    "import cv2\n",
    "from scipy import misc\n",
    "from os.path import expanduser\n",
    "home_dir = expanduser(\"~\")\n",
    "import matplotlib.pyplot as plt\n",
    "%matplotlib inline\n",
    "from IPython.display import clear_output\n",
    "import glob"
   ]
  },
  {
   "cell_type": "code",
   "execution_count": 2,
   "metadata": {
    "collapsed": true
   },
   "outputs": [],
   "source": [
    "# %load ../models/coco-baseline/solve.py\n",
    "from __future__ import division\n",
    "# make a bilinear interpolation kernel\n",
    "# credit @longjon\n",
    "def upsample_filt(size):\n",
    "    factor = (size + 1) // 2\n",
    "    if size % 2 == 1:\n",
    "        center = factor - 1\n",
    "    else:\n",
    "        center = factor - 0.5\n",
    "    og = np.ogrid[:size, :size]\n",
    "    return (1 - abs(og[0] - center) / factor) * \\\n",
    "           (1 - abs(og[1] - center) / factor)\n",
    "# set parameters s.t. deconvolutional layers compute bilinear interpolation\n",
    "# N.B. this is for deconvolution without groups\n",
    "def interp_surgery(net, layers):\n",
    "    for l in layers:\n",
    "        m, k, h, w = net.params[l][0].data.shape\n",
    "        if m != k:\n",
    "            print 'input + output channels need to be the same'\n",
    "            raise\n",
    "        if h != w:\n",
    "            print 'filters need to be square'\n",
    "            raise\n",
    "        filt = upsample_filt(h)\n",
    "        net.params[l][0].data[range(m), range(k), :, :] = filt\n"
   ]
  },
  {
   "cell_type": "markdown",
   "metadata": {},
   "source": [
    "Set parameters of training:"
   ]
  },
  {
   "cell_type": "code",
   "execution_count": 3,
   "metadata": {
    "collapsed": false
   },
   "outputs": [],
   "source": [
    "# continuing or starting training\n",
    "cont = False; cont_itr = 30000\n",
    "total_itr = 60000\n",
    "loss_save_interval = 100\n",
    "net_save_interval = 2000\n",
    "experiment_name = 'coco-600-fcn8'\n",
    "caffe.set_device(0)\n",
    "caffe.set_mode_gpu()\n",
    "solver = caffe.SGDSolver(caffe_root+'/models/'+experiment_name+'/solver.prototxt')\n"
   ]
  },
  {
   "cell_type": "code",
   "execution_count": 4,
   "metadata": {
    "collapsed": true
   },
   "outputs": [],
   "source": [
    "interp_layers = [k for k in solver.net.params.keys() if 'up' in k]\n",
    "interp_surgery(solver.net, interp_layers)"
   ]
  },
  {
   "cell_type": "code",
   "execution_count": null,
   "metadata": {
    "collapsed": false
   },
   "outputs": [],
   "source": [
    "if cont:\n",
    "    solver.net.copy_from(caffe_root+'/models/'+experiment_name+'/'+experiment_name+'_'+str(cont_itr)+'.caffemodel')\n",
    "    niter = range(cont_itr+1, total_itr)\n",
    "    train_loss = np.load(caffe_root+'/models/'+experiment_name+'/'+'train_loss.npy')\n",
    "else:\n",
    "    solver.net.copy_from(caffe_root+'/models/fcn-context/fcn-32s-pascalcontext.caffemodel')\n",
    "    niter = range(total_itr)\n",
    "    train_loss = np.zeros(len(niter))"
   ]
  },
  {
   "cell_type": "code",
   "execution_count": null,
   "metadata": {
    "collapsed": false,
    "scrolled": true
   },
   "outputs": [
    {
     "name": "stdout",
     "output_type": "stream",
     "text": [
      "iter 800, loss=534654.500000\n"
     ]
    },
    {
     "data": {
      "image/png": "[encoded data removed]",
      "text/plain": [
       "<matplotlib.figure.Figure at 0x7fad200a8350>"
      ]
     },
     "metadata": {},
     "output_type": "display_data"
    }
   ],
   "source": [
    "for it in niter:\n",
    "    solver.step(1)  # SGD by Caffe\n",
    "    # store the train loss\n",
    "    train_loss[it] = solver.net.blobs['loss'].data                  \n",
    "    if it % loss_save_interval == 0:\n",
    "        clear_output()\n",
    "        print 'iter %d, loss=%f' % (it, train_loss[it])\n",
    "        plt.plot(train_loss[:it+1])\n",
    "        plt.show()\n",
    "        plt.savefig(caffe_root+'/models/'+experiment_name+'/'+'loss_curve.png')\n",
    "        np.save(caffe_root+'/models/'+experiment_name+'/'+'train_loss.npy',train_loss)\n",
    "    if it % net_save_interval == 0: \n",
    "        solver.net.save(caffe_root+'/models/'+experiment_name+'/'+experiment_name+'_'+str(it)+'.caffemodel')\n",
    "print 'done'"
   ]
  },
  {
   "cell_type": "code",
   "execution_count": 7,
   "metadata": {
    "collapsed": false
   },
   "outputs": [
    {
     "data": {
      "text/plain": [
       "[<matplotlib.lines.Line2D at 0x7f834002d090>]"
      ]
     },
     "execution_count": 7,
     "metadata": {},
     "output_type": "execute_result"
    },
    {
     "data": {
      "image/png": "[encoded data removed]",
      "text/plain": [
       "<matplotlib.figure.Figure at 0x7f8339327390>"
      ]
     },
     "metadata": {},
     "output_type": "display_data"
    }
   ],
   "source": [
    "plt.plot(train_loss[:it+1])"
   ]
  },
  {
   "cell_type": "code",
   "execution_count": 7,
   "metadata": {
    "collapsed": false
   },
   "outputs": [],
   "source": [
    "net.blobs['data'] = np.random.rand(1,3,640,640).astype(np.float32)\n",
    "net.blobs['label'] = np.random.rand(1,1,640,640).astype(np.float32)"
   ]
  },
  {
   "cell_type": "code",
   "execution_count": 13,
   "metadata": {
    "collapsed": false,
    "scrolled": true
   },
   "outputs": [
    {
     "data": {
      "text/plain": [
       "<bound method Net._Net_forward_all of <caffe._caffe.Net object at 0x7f65f4722398>>"
      ]
     },
     "execution_count": 13,
     "metadata": {},
     "output_type": "execute_result"
    }
   ],
   "source": [
    "net.forward()"
   ]
  },
  {
   "cell_type": "code",
   "execution_count": 11,
   "metadata": {
    "collapsed": false
   },
   "outputs": [
    {
     "data": {
      "text/plain": [
       "{}"
      ]
     },
     "execution_count": 11,
     "metadata": {},
     "output_type": "execute_result"
    }
   ],
   "source": [
    "def moving_average(a, n=3) :\n",
    "    ret = np.cumsum(a, dtype=float)\n",
    "    ret[n:] = ret[n:] - ret[:-n]\n",
    "    return ret[n - 1:] / n"
   ]
  },
  {
   "cell_type": "code",
   "execution_count": null,
   "metadata": {
    "collapsed": true
   },
   "outputs": [],
   "source": []
  }
 ],
 "metadata": {
  "kernelspec": {
   "display_name": "Python 2",
   "language": "python",
   "name": "python2"
  },
  "language_info": {
   "codemirror_mode": {
    "name": "ipython",
    "version": 2
   },
   "file_extension": ".py",
   "mimetype": "text/x-python",
   "name": "python",
   "nbconvert_exporter": "python",
   "pygments_lexer": "ipython2",
   "version": "2.7.6"
  }
 },
 "nbformat": 4,
 "nbformat_minor": 0
}
