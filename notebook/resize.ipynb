{
 "cells": [
  {
   "cell_type": "code",
   "execution_count": 1,
   "metadata": {
    "collapsed": true
   },
   "outputs": [],
   "source": [
    "import numpy as np\n",
    "import lmdb\n",
    "import sys\n",
    "caffe_root = '..'\n",
    "sys.path.insert(0,caffe_root+'/python')\n",
    "import caffe\n",
    "import os\n",
    "import cv2\n",
    "from scipy import misc\n",
    "from os.path import expanduser\n",
    "home_dir = expanduser(\"~\")\n",
    "import matplotlib.pyplot as plt\n",
    "%matplotlib inline\n",
    "from IPython.display import clear_output\n",
    "from pycocotools.coco import COCO\n",
    "from PIL import Image"
   ]
  },
  {
   "cell_type": "code",
   "execution_count": null,
   "metadata": {
    "collapsed": false
   },
   "outputs": [],
   "source": [
    "annType = ['segm','bbox']\n",
    "annType = annType[0]      #specify type here\n",
    "dataDir=home_dir + '/data/coco'\n",
    "dataType='train2014'\n",
    "annFile = '%s/annotations/instances_%s.json'%(dataDir,dataType)\n",
    "cocoGt=COCO(annFile)\n",
    "imgIds = cocoGt.getImgIds()\n",
    "for imgId in imgIds:\n",
    "    img = cocoGt.loadImgs(ids=imgId)\n",
    "    img = img[0]\n",
    "    im = misc.imread(dataDir + '/images/'+dataType+'/'+img['file_name'])\n",
    "    imglength = np.max(im.shape)\n",
    "    scale_factor = 640/float(imglength)\n",
    "    im = cv2.resize(im,None,fx=scale_factor,fy=scale_factor) \n",
    "    im = Image.fromarray((im).astype(np.uint8))\n",
    "    im.save(dataDir + '/images-resized/'+dataType+'/'+img['file_name'])\n",
    "    \n",
    "    label = misc.imread(dataDir + '/preprocessed/labelmap/'+dataType+'/'+img['file_name'][:-3]+'png')\n",
    "    scale_factor = 640/float(imglength)\n",
    "    label = cv2.resize(label,None,fx=scale_factor,fy=scale_factor,interpolation=cv2.INTER_NEAREST) \n",
    "    label = Image.fromarray((label).astype(np.uint8))\n",
    "    label.save(dataDir + '/preprocessed/labelmap-resized/'+dataType+'/'+img['file_name'][:-3]+'png')\n",
    "    \n",
    "# dataType='val2014'\n",
    "# annFile = '%s/annotations/instances_%s.json'%(dataDir,dataType)\n",
    "# cocoGt=COCO(annFile)\n",
    "# imgIds = cocoGt.getImgIds()\n",
    "# for imgId in imgIds:\n",
    "#     img = cocoGt.loadImgs(ids=imgId)\n",
    "#     img = img[0]\n",
    "#     im = misc.imread(dataDir + '/images/'+dataType+'/'+img['file_name'])\n",
    "#     imglength = np.max(im.shape)\n",
    "#     scale_factor = 640/float(imglength)\n",
    "#     im = cv2.resize(im,None,fx=scale_factor,fy=scale_factor) \n",
    "#     im = Image.fromarray((im).astype(np.uint8))\n",
    "#     im.save(dataDir + '/images-resized/'+dataType+'/'+img['file_name'])\n",
    "    \n",
    "#     label = misc.imread(dataDir + '/preprocessed/labelmap/'+dataType+'/'+img['file_name'][:-3]+'png')\n",
    "#     scale_factor = 640/float(imglength)\n",
    "#     label = cv2.resize(label,None,fx=scale_factor,fy=scale_factor,interpolation=cv2.INTER_NEAREST) \n",
    "#     label = Image.fromarray((label).astype(np.uint8))\n",
    "#     label.save(dataDir + '/preprocessed/labelmap-resized/'+dataType+'/'+img['file_name'][:-3]+'png') \n"
   ]
  }
 ],
 "metadata": {
  "kernelspec": {
   "display_name": "Python 2",
   "language": "python",
   "name": "python2"
  },
  "language_info": {
   "codemirror_mode": {
    "name": "ipython",
    "version": 2
   },
   "file_extension": ".py",
   "mimetype": "text/x-python",
   "name": "python",
   "nbconvert_exporter": "python",
   "pygments_lexer": "ipython2",
   "version": "2.7.6"
  }
 },
 "nbformat": 4,
 "nbformat_minor": 0
}
