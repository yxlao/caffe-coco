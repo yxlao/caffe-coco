{
 "cells": [
  {
   "cell_type": "code",
   "execution_count": 1,
   "metadata": {
    "collapsed": true
   },
   "outputs": [],
   "source": [
    "import numpy as np\n",
    "import lmdb\n",
    "import sys\n",
    "caffe_root = '..'\n",
    "sys.path.insert(0,caffe_root+'/python')\n",
    "import caffe\n",
    "import os\n",
    "import cv2\n",
    "from scipy import misc\n",
    "from os.path import expanduser\n",
    "home_dir = expanduser(\"~\")\n",
    "import matplotlib.pyplot as plt\n",
    "%matplotlib inline\n",
    "from IPython.display import clear_output\n",
    "from pycocotools.coco import COCO\n",
    "from PIL import Image"
   ]
  },
  {
   "cell_type": "code",
   "execution_count": 2,
   "metadata": {
    "collapsed": true
   },
   "outputs": [],
   "source": [
    "annType = ['segm','bbox']\n",
    "annType = annType[0]      #specify type here\n",
    "dataDir=home_dir + '/data/coco'\n",
    "dataType='train2014'"
   ]
  },
  {
   "cell_type": "code",
   "execution_count": 3,
   "metadata": {
    "collapsed": false
   },
   "outputs": [],
   "source": [
    "caffe.set_device(4)\n",
    "caffe.set_mode_gpu()"
   ]
  },
  {
   "cell_type": "code",
   "execution_count": 4,
   "metadata": {
    "collapsed": false
   },
   "outputs": [],
   "source": [
    "with open(dataDir+'/test_img.lst','r') as f:\n",
    "    test_img_lst = f.readlines() \n",
    "with open(dataDir+'/test_label.lst','r') as f:\n",
    "    test_label_lst = f.readlines() "
   ]
  },
  {
   "cell_type": "code",
   "execution_count": 8,
   "metadata": {
    "collapsed": false
   },
   "outputs": [],
   "source": [
    "test_img_num = 500\n",
    "step = 2000\n",
    "start = 10000\n",
    "end = 30001\n",
    "val_loss = np.zeros((test_img_num,len(np.arange(start, end, step))))"
   ]
  },
  {
   "cell_type": "code",
   "execution_count": 24,
   "metadata": {
    "collapsed": false
   },
   "outputs": [
    {
     "name": "stdout",
     "output_type": "stream",
     "text": [
      "[10000 12000 14000 16000 18000 20000 22000 24000 26000 28000 30000]\n",
      "185816.387984 185797.915844\n"
     ]
    },
    {
     "data": {
      "image/png": "[encoded data removed]",
      "text/plain": [
       "<matplotlib.figure.Figure at 0x7f32709affd0>"
      ]
     },
     "metadata": {},
     "output_type": "display_data"
    }
   ],
   "source": [
    "print np.arange(start, end, step)\n",
    "plt.plot(np.mean(val_loss,axis=0))\n",
    "print np.mean(val_loss[:,9],axis=0), np.mean(val_loss[:,10],axis=0)"
   ]
  },
  {
   "cell_type": "code",
   "execution_count": null,
   "metadata": {
    "collapsed": false
   },
   "outputs": [],
   "source": [
    "for itr in np.arange(start, end, step):\n",
    "# for itr in [26000]:\n",
    "    k = (itr-start)/step\n",
    "    net = caffe.Net(caffe_root+'/models/coco-baseline/deploy.prototxt',caffe_root+'/models/coco-baseline/base_'+str(itr)+'.caffemodel',caffe.TEST)\n",
    "    for i in range(0, len(test_img_lst)):\n",
    "        im = Image.open(test_img_lst[i][:-1])\n",
    "        label = Image.open(test_label_lst[i][:-1])\n",
    "        label = np.array(label, dtype=np.float32)\n",
    "        im = np.array(im, dtype=np.float32)\n",
    "        if im.ndim==2:\n",
    "            im = np.expand_dims(im,axis=2)\n",
    "            im = np.tile(im, (1,1,3))\n",
    "        im = im[:,:,::-1]\n",
    "        im -= np.array((104.00698793,116.66876762,122.67891434))\n",
    "        im = im.transpose((2,0,1))\n",
    "        im = np.expand_dims(im,axis=0)\n",
    "        label = np.expand_dims(label,axis=0)\n",
    "        label = np.expand_dims(label,axis=0)\n",
    "        net.blobs['data'].reshape(*im.shape)\n",
    "        net.blobs['data'].data[...] = im\n",
    "        net.blobs['label'].reshape(*label.shape)\n",
    "        net.blobs['label'].data[...] = label\n",
    "        net.forward()\n",
    "        val_loss[i,k] = net.blobs['loss'].data\n",
    "    np.save(caffe_root+'/models/coco-baseline/val_loss.npy',val_loss)"
   ]
  },
  {
   "cell_type": "code",
   "execution_count": 9,
   "metadata": {
    "collapsed": false
   },
   "outputs": [
    {
     "data": {
      "text/plain": [
       "[<matplotlib.lines.Line2D at 0x7f2d28158910>]"
      ]
     },
     "execution_count": 9,
     "metadata": {},
     "output_type": "execute_result"
    },
    {
     "data": {
      "image/png": "[encoded data removed]",
      "text/plain": [
       "<matplotlib.figure.Figure at 0x7f2d322a50d0>"
      ]
     },
     "metadata": {},
     "output_type": "display_data"
    }
   ],
   "source": [
    "train_loss = np.load('../models/coco-baseline/train_loss.npy')\n",
    "def moving_average(a, n=500) :\n",
    "    ret = np.cumsum(a, dtype=float)\n",
    "    ret[n:] = ret[n:] - ret[:-n]\n",
    "    return ret[n - 1:] / n\n",
    "plt.plot(moving_average(train_loss[0:28000]))"
   ]
  },
  {
   "cell_type": "code",
   "execution_count": 27,
   "metadata": {
    "collapsed": false
   },
   "outputs": [
    {
     "name": "stdout",
     "output_type": "stream",
     "text": [
      "loading annotations into memory...\n",
      "Done (t=24.31s)\n",
      "creating index...\n",
      "index created!\n"
     ]
    }
   ],
   "source": [
    "annFile = '%s/annotations/instances_%s.json'%(dataDir,dataType)\n",
    "cocoGt=COCO(annFile)"
   ]
  },
  {
   "cell_type": "code",
   "execution_count": 30,
   "metadata": {
    "collapsed": false
   },
   "outputs": [
    {
     "ename": "AttributeError",
     "evalue": "__float__",
     "output_type": "error",
     "traceback": [
      "\u001b[1;31m---------------------------------------------------------------------------\u001b[0m",
      "\u001b[1;31mAttributeError\u001b[0m                            Traceback (most recent call last)",
      "\u001b[1;32m<ipython-input-30-b15a1f951b3c>\u001b[0m in \u001b[0;36m<module>\u001b[1;34m()\u001b[0m\n\u001b[0;32m      4\u001b[0m     \u001b[0mimg\u001b[0m \u001b[1;33m=\u001b[0m \u001b[0mimg\u001b[0m\u001b[1;33m[\u001b[0m\u001b[1;36m0\u001b[0m\u001b[1;33m]\u001b[0m\u001b[1;33m\u001b[0m\u001b[0m\n\u001b[0;32m      5\u001b[0m     \u001b[0mim\u001b[0m \u001b[1;33m=\u001b[0m \u001b[0mImage\u001b[0m\u001b[1;33m.\u001b[0m\u001b[0mopen\u001b[0m\u001b[1;33m(\u001b[0m\u001b[0mdataDir\u001b[0m \u001b[1;33m+\u001b[0m \u001b[1;34m'/images/'\u001b[0m\u001b[1;33m+\u001b[0m\u001b[0mdataType\u001b[0m\u001b[1;33m+\u001b[0m\u001b[1;34m'/'\u001b[0m\u001b[1;33m+\u001b[0m\u001b[0mimg\u001b[0m\u001b[1;33m[\u001b[0m\u001b[1;34m'file_name'\u001b[0m\u001b[1;33m]\u001b[0m\u001b[1;33m)\u001b[0m\u001b[1;33m\u001b[0m\u001b[0m\n\u001b[1;32m----> 6\u001b[1;33m     \u001b[0mim\u001b[0m \u001b[1;33m=\u001b[0m \u001b[0mnp\u001b[0m\u001b[1;33m.\u001b[0m\u001b[0marray\u001b[0m\u001b[1;33m(\u001b[0m\u001b[0mim\u001b[0m\u001b[1;33m,\u001b[0m\u001b[0mdtype\u001b[0m\u001b[1;33m=\u001b[0m\u001b[0mnp\u001b[0m\u001b[1;33m.\u001b[0m\u001b[0mfloat32\u001b[0m\u001b[1;33m)\u001b[0m\u001b[1;33m\u001b[0m\u001b[0m\n\u001b[0m\u001b[0;32m      7\u001b[0m     \u001b[0mimglength\u001b[0m \u001b[1;33m=\u001b[0m \u001b[0mnp\u001b[0m\u001b[1;33m.\u001b[0m\u001b[0mmax\u001b[0m\u001b[1;33m(\u001b[0m\u001b[0mim\u001b[0m\u001b[1;33m.\u001b[0m\u001b[0mshape\u001b[0m\u001b[1;33m)\u001b[0m\u001b[1;33m\u001b[0m\u001b[0m\n\u001b[0;32m      8\u001b[0m     \u001b[0mscale_factor\u001b[0m \u001b[1;33m=\u001b[0m \u001b[1;36m640\u001b[0m\u001b[1;33m/\u001b[0m\u001b[0mfloat\u001b[0m\u001b[1;33m(\u001b[0m\u001b[0mimglength\u001b[0m\u001b[1;33m)\u001b[0m\u001b[1;33m\u001b[0m\u001b[0m\n",
      "\u001b[1;32m/local/usr.local/lib/python2.7/dist-packages/PIL/Image.pyc\u001b[0m in \u001b[0;36m__getattr__\u001b[1;34m(self, name)\u001b[0m\n\u001b[0;32m    620\u001b[0m             \u001b[0mnew\u001b[0m\u001b[1;33m[\u001b[0m\u001b[1;34m'data'\u001b[0m\u001b[1;33m]\u001b[0m \u001b[1;33m=\u001b[0m \u001b[0mself\u001b[0m\u001b[1;33m.\u001b[0m\u001b[0mtobytes\u001b[0m\u001b[1;33m(\u001b[0m\u001b[1;33m)\u001b[0m\u001b[1;33m\u001b[0m\u001b[0m\n\u001b[0;32m    621\u001b[0m             \u001b[1;32mreturn\u001b[0m \u001b[0mnew\u001b[0m\u001b[1;33m\u001b[0m\u001b[0m\n\u001b[1;32m--> 622\u001b[1;33m         \u001b[1;32mraise\u001b[0m \u001b[0mAttributeError\u001b[0m\u001b[1;33m(\u001b[0m\u001b[0mname\u001b[0m\u001b[1;33m)\u001b[0m\u001b[1;33m\u001b[0m\u001b[0m\n\u001b[0m\u001b[0;32m    623\u001b[0m \u001b[1;33m\u001b[0m\u001b[0m\n\u001b[0;32m    624\u001b[0m     \u001b[1;32mdef\u001b[0m \u001b[0m__getstate__\u001b[0m\u001b[1;33m(\u001b[0m\u001b[0mself\u001b[0m\u001b[1;33m)\u001b[0m\u001b[1;33m:\u001b[0m\u001b[1;33m\u001b[0m\u001b[0m\n",
      "\u001b[1;31mAttributeError\u001b[0m: __float__"
     ]
    }
   ],
   "source": [
    "imgIds = cocoGt.getImgIds()\n",
    "for imgId in imgIds:\n",
    "    img = cocoGt.loadImgs(ids=imgId)\n",
    "    img = img[0]\n",
    "    im = Image.open(dataDir + '/images/'+dataType+'/'+img['file_name'])\n",
    "    im = np.array(im,dtype=np.float32)\n",
    "    imglength = np.max(im.shape)\n",
    "    scale_factor = 640/float(imglength)\n",
    "    im = cv2.resize(im,None,fx=scale_factor,fy=scale_factor) \n",
    "    im = Image.fromarray((im).astype(np.uint8))\n",
    "    im.save(dataDir + '/images-resized/'+dataType+'/'+img['file_name'])"
   ]
  },
  {
   "cell_type": "code",
   "execution_count": 15,
   "metadata": {
    "collapsed": false
   },
   "outputs": [],
   "source": [
    "imgIds = cocoGt.getImgIds()\n",
    "np.random.shuffle(imgIds)\n",
    "imgIds = imgIds[0:500]\n",
    "with open(dataDir+'/test_img.lst','w') as f:\n",
    "    for imgId in imgIds:\n",
    "        img = cocoGt.loadImgs(ids=imgId)\n",
    "        img = img[0]\n",
    "        imgPath = dataDir + '/images/'+dataType+'/'+img['file_name']\n",
    "        f.write(imgPath+'\\n')\n",
    "with open(dataDir+'/test_label.lst','w') as f:\n",
    "    for imgId in imgIds:\n",
    "        img = cocoGt.loadImgs(ids=imgId)\n",
    "        img = img[0]\n",
    "        labelPath = dataDir + '/preprocessed/labelmap/'+dataType+'/'+img['file_name'][:-3]+'png'\n",
    "        f.write(labelPath+'\\n')      \n"
   ]
  }
 ],
 "metadata": {
  "kernelspec": {
   "display_name": "Python 2",
   "language": "python",
   "name": "python2"
  },
  "language_info": {
   "codemirror_mode": {
    "name": "ipython",
    "version": 2
   },
   "file_extension": ".py",
   "mimetype": "text/x-python",
   "name": "python",
   "nbconvert_exporter": "python",
   "pygments_lexer": "ipython2",
   "version": "2.7.6"
  }
 },
 "nbformat": 4,
 "nbformat_minor": 0
}
